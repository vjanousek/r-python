{
 "cells": [
  {
   "cell_type": "markdown",
   "metadata": {},
   "source": [
    "<img src=\"images/cleaning.jpg\" style=\"float:right;width:150px;\"> \n",
    "# R applications – Part III Your turn (homework)"
   ]
  },
  {
   "cell_type": "markdown",
   "metadata": {},
   "source": [
    "## Modelling fractional crystallization using trace-element data\n",
    "### The partitioning concept\n",
    "Trace-element modelling of crystallization or melting using dillute trace elements involves a balance between solid phases and melt. In igneous petrology, the compatibility of an element in a crystal lattice is expressed relative to the melt. This property is defined as a *partition coefficient* of element α between a mineral and the liquid: \n",
    "\n",
    "$${{K}_{D}}{{_{\\alpha }}^{min/L}}=\\frac{c_{min}^{\\alpha }}{C_{L}^{\\alpha}}$$\n",
    "\n",
    "When the cumulate or the residue contains several mineral phases, the partition coefficients for individual phases are combined according to their relative abundances in the solid: \n",
    "\n",
    "$${{D}_{\\alpha }}=\\sum\\limits_{i=1}^{n}{{{m}_{_{i}}}K_{D\\alpha }^{i/L}}$$\n",
    "\n",
    "i.e., a property known as the *bulk distribution coefficient*. \n",
    "\n",
    "Note that all the mass proportions have to sum up to unity:\n",
    "$$\\underset{i=1}{\\mathop{\\overset{n}{\\mathop{\\sum }}\\,}}\\,{{m}_{i}}=1$$"
   ]
  },
  {
   "cell_type": "markdown",
   "metadata": {},
   "source": [
    "During **equilibrium crystallization**, newly crystallizing phases remain in the system until the process is complete. Such a situation resembles equilibrium reached in an experimental capsule.\n",
    "\n",
    "During **Rayleigh-type fractional crystallization**, the crystals are immediately removed from the system as they form. Therefore, the equilibrium defined by equations above exists only for infinitesimal crystal (or melt) amounts. "
   ]
  },
  {
   "cell_type": "markdown",
   "metadata": {},
   "source": [
    "### Rayleigh-type fractional crystallization\n",
    "The concentration of a trace element in course of fractional crystallization obeys the Rayleigh law (Rayleigh 1896):\n",
    "\n",
    "$$\\frac{{{C}_{L}}}{{{C}_{0}}}={{F}^{(D-1)}}$$\n",
    "where:\n",
    "\n",
    "C<sub>0</sub> = initial concentration of the trace element in the unfractionated melt\n",
    "\n",
    "C<sub>L</sub> = oncentration of the trace element in the fractionated melt \n",
    "\n",
    "F =  fraction of the melt remaining `(1→0)`;  `(1 – F)` = degree of fractionation\n",
    "\n",
    "D = bulk distribution coefficient for crystallizing phases\n",
    "\n",
    "Fractional crystallization depletes quickly compatible elements from the melt. This fact can be used to confirm that fractional crystallization and not partial melting was responsible for the observed variations."
   ]
  },
  {
   "cell_type": "markdown",
   "metadata": {},
   "source": [
    "<img src=\"images/exercise-icon.png\" style=\"float:left;width:40px;height:40px;\">\n",
    "\n",
    "* Plot a graph illustrating the evolution of normalized trace-element concentrations (`log(C`<SUB>`L`</SUB>`/C`<SUB>`0`</SUB>) as a function of the melt fraction `F`, for Rayleigh-type fractional crystallization. Computation should be done for different values of the bulk distribution coefficient (D = 0.01, 0.1, 0.5, 2, 5). \n",
    "* What is the formula expressing the limit of trace-element enrichment in the melt for a perfectly incompatible element (`D = 0`)?"
   ]
  },
  {
   "cell_type": "code",
   "execution_count": 1,
   "metadata": {
    "collapsed": false
   },
   "outputs": [],
   "source": [
    "# This space is intentionally left empty"
   ]
  },
  {
   "cell_type": "markdown",
   "metadata": {},
   "source": [
    "<img src=\"images/rayleigh.png\" style=\"width:500;\"> \n",
    "*Curves showing the evolution of the residual liquid composition during fractional crystallization for various values of bulk distribution coefficient `D`*. "
   ]
  },
  {
   "cell_type": "markdown",
   "metadata": {},
   "source": [
    "For Rayleigh-type fractionation, one may identify controlling phases using log–log plots of whole-rock trace-element concentrations, in which the originally exponential trends are converted to linear ones: \n",
    "\n",
    "$$log{{C}_{L}}-\\log {{C}_{0}}=\\left( D-1 \\right)\\log F$$"
   ]
  },
  {
   "cell_type": "markdown",
   "metadata": {},
   "source": [
    "This enables plotting fractionation vectors, either for pure mineral phases, or any combination thereof. \n",
    "\n",
    "A clever choice consists in using compatible elements, whose content sharply decreases during fractional crystallization.\n",
    "For granitoids are commonly employed Rb, Sr, Ba hosted in the main rock-forming minerals (feldspars and micas) and whose partition coefficients are relatively well known (Hanson 1978). "
   ]
  },
  {
   "cell_type": "markdown",
   "metadata": {},
   "source": [
    "<img src=\"images/exercise-icon.png\" style=\"float:left;width:40px;height:40px;\"> \n",
    "The file `blatna.data` contains Ba and Sr concentrations (ppm) from granodioritic rocks of the Blatná suite, Central Bohemian Plutonic Complex (Janoušek et al. 2010). Table below summarizes partition coefficients between amphibole, biotite, K-feldspar and plagioclase and dacitic to rhyolitic melts (Hanson 1978).\n",
    "\n",
    "|Mineral |Sr\t|Ba\n",
    "|--------|------|-----\n",
    "|Amp\t |0.22\t|0.044\n",
    "|Bt\t     |0.12\t|6.36\n",
    "|Kfs\t |3.87\t|6.12\n",
    "|Pl\t     |4.4\t|0.31\n",
    "\n",
    "* Plot the analyses in a binary graph of Ba vs. Sr (with logarithmic coordinates).\n",
    "* Superimpose vectors portraying 10% fractional crystallization of each individual rock-forming mineral. "
   ]
  },
  {
   "cell_type": "code",
   "execution_count": 2,
   "metadata": {
    "collapsed": false
   },
   "outputs": [],
   "source": [
    "# This space is intentionally left empty"
   ]
  },
  {
   "cell_type": "markdown",
   "metadata": {
    "collapsed": true
   },
   "source": [
    "<img src=\"images/blatna_vectors.png\" style=\"width:600px;\">\n",
    "\n",
    "*Trace-element modelling of fractional crystallization in the Blatná suite. The arrows portray the effects of 10% fractionation of the minerals indicated. The observed trend can be accounted for by up to c. 15% fractionation of an assemblage dominated by K-feldspar, or by a plagioclase–biotite mix in the right proportions.* "
   ]
  },
  {
   "cell_type": "markdown",
   "metadata": {},
   "source": [
    "#### References\n",
    "Hanson GN (1978) The application of trace elements to the petrogenesis of igneous rocks of granitic composition. Earth Planet Sci Lett 38:26–43\n",
    "\n",
    "Janoušek V, Wiegand BA, Žák J (2010) Dating the onset of Variscan crustal exhumation in the core of the Bohemian Massif: new U–Pb single zircon ages from the high-K calc-alkaline granodiorites of the Blatná suite, Central Bohemian Plutonic Complex. J Geol Soc London 167:347–360\n",
    "\n",
    "Janoušek V, Moyen JF, Martin H, Erban V, Farrow C (2016) Geochemical Modelling of Igneous Processes – Principles and Recipes in R Language. Bringing the Power of R to a Geochemical Community. Springer-Verlag, Berlin, Heidelberg\n",
    "\n",
    "Rayleigh JWS (1896) Theoretical considerations respecting the separation of gases by diffusion and similar processes. Phil Mag 42:77–107"
   ]
  },
  {
   "cell_type": "markdown",
   "metadata": {},
   "source": [
    "<img src=\"images/santa.png\" style=\"float:left;width:150px;\"> \n",
    "##### H.L. Mencken's Law:\n",
    "Those who can — do.\n",
    "Those who can't — teach.\n",
    "\n",
    "#### Martin's Extension:\n",
    "Those who cannot teach — administrate.\n"
   ]
  },
  {
   "cell_type": "code",
   "execution_count": null,
   "metadata": {
    "collapsed": true
   },
   "outputs": [],
   "source": []
  }
 ],
 "metadata": {
  "kernelspec": {
   "display_name": "R",
   "language": "R",
   "name": "ir"
  },
  "language_info": {
   "codemirror_mode": "r",
   "file_extension": ".r",
   "mimetype": "text/x-r-source",
   "name": "R",
   "pygments_lexer": "r",
   "version": "3.4.3"
  }
 },
 "nbformat": 4,
 "nbformat_minor": 0
}
