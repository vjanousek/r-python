{
 "cells": [
  {
   "cell_type": "markdown",
   "metadata": {},
   "source": [
    "# R syntax in a nutshell – Part III\n",
    "* 1.10 Factors\n",
    "* 1.11 Data input/output, files"
   ]
  },
  {
   "cell_type": "markdown",
   "metadata": {},
   "source": [
    "## 1.10\t Factors\n",
    "Factors are vector objects used for discrete classification (grouping) of components in other vectors of the same length, matrices or data frames. In statistical applications, these often serve to store categorical variables. \n",
    "### 1.10.1\tBasic usage of factors\n",
    "#### factor(x)\n",
    "The (unordered) factors are set by the function `factor` where `x` is a vector of data, usually containing a small number of discrete values (known as `levels`). In this case the levels are stored in alphabetical order. For instance:"
   ]
  },
  {
   "cell_type": "code",
   "execution_count": 1,
   "metadata": {
    "collapsed": false
   },
   "outputs": [
    {
     "name": "stdout",
     "output_type": "stream",
     "text": [
      "[1] Pl   Bt   Pl   Pl   Kfs  Pl   Bt   Pl   <NA>\n",
      "Levels: Bt Kfs Pl\n"
     ]
    }
   ],
   "source": [
    "x <- c(\"Pl\",\"Bt\",\"Pl\",\"Pl\",\"Kfs\",\"Pl\",\"Bt\",\"Pl\",NA)\n",
    "x.un <- factor(x)\n",
    "print(x.un)"
   ]
  },
  {
   "cell_type": "markdown",
   "metadata": {},
   "source": [
    "#### ordered(x, levels)\n",
    "This function defines a special type of factor in which the order of levels is defined explicitly using the namesake parameter:"
   ]
  },
  {
   "cell_type": "code",
   "execution_count": 2,
   "metadata": {
    "collapsed": false
   },
   "outputs": [
    {
     "name": "stdout",
     "output_type": "stream",
     "text": [
      "[1] Pl   Bt   Pl   Pl   Kfs  Pl   Bt   Pl   <NA>\n",
      "Levels: Pl < Kfs < Bt\n"
     ]
    }
   ],
   "source": [
    "x.or <- ordered(x,levels=c(\"Pl\",\"Kfs\",\"Bt\"))\n",
    "print(x.or)"
   ]
  },
  {
   "cell_type": "markdown",
   "metadata": {},
   "source": [
    "#### levels(x)\n",
    "Returns all possible values (levels) of the factor `x`. "
   ]
  },
  {
   "cell_type": "code",
   "execution_count": 3,
   "metadata": {
    "collapsed": false
   },
   "outputs": [
    {
     "data": {
      "text/html": [
       "<ol class=list-inline>\n",
       "\t<li>'Bt'</li>\n",
       "\t<li>'Kfs'</li>\n",
       "\t<li>'Pl'</li>\n",
       "</ol>\n"
      ],
      "text/latex": [
       "\\begin{enumerate*}\n",
       "\\item 'Bt'\n",
       "\\item 'Kfs'\n",
       "\\item 'Pl'\n",
       "\\end{enumerate*}\n"
      ],
      "text/markdown": [
       "1. 'Bt'\n",
       "2. 'Kfs'\n",
       "3. 'Pl'\n",
       "\n",
       "\n"
      ],
      "text/plain": [
       "[1] \"Bt\"  \"Kfs\" \"Pl\" "
      ]
     },
     "metadata": {},
     "output_type": "display_data"
    },
    {
     "data": {
      "text/html": [
       "<ol class=list-inline>\n",
       "\t<li>'Pl'</li>\n",
       "\t<li>'Kfs'</li>\n",
       "\t<li>'Bt'</li>\n",
       "</ol>\n"
      ],
      "text/latex": [
       "\\begin{enumerate*}\n",
       "\\item 'Pl'\n",
       "\\item 'Kfs'\n",
       "\\item 'Bt'\n",
       "\\end{enumerate*}\n"
      ],
      "text/markdown": [
       "1. 'Pl'\n",
       "2. 'Kfs'\n",
       "3. 'Bt'\n",
       "\n",
       "\n"
      ],
      "text/plain": [
       "[1] \"Pl\"  \"Kfs\" \"Bt\" "
      ]
     },
     "metadata": {},
     "output_type": "display_data"
    }
   ],
   "source": [
    "levels(x.un)\n",
    "levels(x.or)"
   ]
  },
  {
   "cell_type": "markdown",
   "metadata": {},
   "source": [
    "<img src=\"images/exercise-icon.png\" style=\"float:left;width:40px;height:40px;\">\n",
    "The data frame `ToothGrowth` portrays response in the teeth length of 10 guinea pigs to each of three dose levels of Vitamin C (0.5, 1, and 2 mg) supplied by two delivery methods (orange juice, `OJ` or ascorbic acid, `VC`). It contains 60 observations on 3 variables."
   ]
  },
  {
   "cell_type": "code",
   "execution_count": 4,
   "metadata": {
    "collapsed": false
   },
   "outputs": [
    {
     "data": {
      "text/html": [
       "<table>\n",
       "<thead><tr><th scope=col>len</th><th scope=col>supp</th><th scope=col>dose</th></tr></thead>\n",
       "<tbody>\n",
       "\t<tr><td> 4.2</td><td>VC  </td><td>0.5 </td></tr>\n",
       "\t<tr><td>11.5</td><td>VC  </td><td>0.5 </td></tr>\n",
       "\t<tr><td> 7.3</td><td>VC  </td><td>0.5 </td></tr>\n",
       "\t<tr><td> 5.8</td><td>VC  </td><td>0.5 </td></tr>\n",
       "\t<tr><td> 6.4</td><td>VC  </td><td>0.5 </td></tr>\n",
       "\t<tr><td>10.0</td><td>VC  </td><td>0.5 </td></tr>\n",
       "</tbody>\n",
       "</table>\n"
      ],
      "text/latex": [
       "\\begin{tabular}{r|lll}\n",
       " len & supp & dose\\\\\n",
       "\\hline\n",
       "\t  4.2 & VC   & 0.5 \\\\\n",
       "\t 11.5 & VC   & 0.5 \\\\\n",
       "\t  7.3 & VC   & 0.5 \\\\\n",
       "\t  5.8 & VC   & 0.5 \\\\\n",
       "\t  6.4 & VC   & 0.5 \\\\\n",
       "\t 10.0 & VC   & 0.5 \\\\\n",
       "\\end{tabular}\n"
      ],
      "text/markdown": [
       "\n",
       "len | supp | dose | \n",
       "|---|---|---|---|---|---|\n",
       "|  4.2 | VC   | 0.5  | \n",
       "| 11.5 | VC   | 0.5  | \n",
       "|  7.3 | VC   | 0.5  | \n",
       "|  5.8 | VC   | 0.5  | \n",
       "|  6.4 | VC   | 0.5  | \n",
       "| 10.0 | VC   | 0.5  | \n",
       "\n",
       "\n"
      ],
      "text/plain": [
       "  len  supp dose\n",
       "1  4.2 VC   0.5 \n",
       "2 11.5 VC   0.5 \n",
       "3  7.3 VC   0.5 \n",
       "4  5.8 VC   0.5 \n",
       "5  6.4 VC   0.5 \n",
       "6 10.0 VC   0.5 "
      ]
     },
     "metadata": {},
     "output_type": "display_data"
    }
   ],
   "source": [
    "data(ToothGrowth)\n",
    "head(ToothGrowth) # print just a few observations"
   ]
  },
  {
   "cell_type": "markdown",
   "metadata": {},
   "source": [
    "We can define a factor `method` that shows the Vitamin C supplement method."
   ]
  },
  {
   "cell_type": "code",
   "execution_count": 6,
   "metadata": {
    "collapsed": false
   },
   "outputs": [
    {
     "name": "stdout",
     "output_type": "stream",
     "text": [
      " [1] VC VC VC VC VC VC VC VC VC VC VC VC VC VC VC VC VC VC VC VC VC VC VC VC VC\n",
      "[26] VC VC VC VC VC OJ OJ OJ OJ OJ OJ OJ OJ OJ OJ OJ OJ OJ OJ OJ OJ OJ OJ OJ OJ\n",
      "[51] OJ OJ OJ OJ OJ OJ OJ OJ OJ OJ\n",
      "Levels: OJ VC\n"
     ]
    }
   ],
   "source": [
    "method <- factor(ToothGrowth[,\"supp\"])\n",
    "print(method)"
   ]
  },
  {
   "cell_type": "markdown",
   "metadata": {},
   "source": [
    "Possible values of the factor method are displayed directly using the function `levels`:"
   ]
  },
  {
   "cell_type": "code",
   "execution_count": 7,
   "metadata": {
    "collapsed": false
   },
   "outputs": [
    {
     "data": {
      "text/html": [
       "<ol class=list-inline>\n",
       "\t<li>'OJ'</li>\n",
       "\t<li>'VC'</li>\n",
       "</ol>\n"
      ],
      "text/latex": [
       "\\begin{enumerate*}\n",
       "\\item 'OJ'\n",
       "\\item 'VC'\n",
       "\\end{enumerate*}\n"
      ],
      "text/markdown": [
       "1. 'OJ'\n",
       "2. 'VC'\n",
       "\n",
       "\n"
      ],
      "text/plain": [
       "[1] \"OJ\" \"VC\""
      ]
     },
     "metadata": {},
     "output_type": "display_data"
    }
   ],
   "source": [
    "levels(method)"
   ]
  },
  {
   "cell_type": "markdown",
   "metadata": {},
   "source": [
    "### 1.10.2\tCalculations using factors\n",
    "The factor can be now used for instance to calculate the mean tooth length for each group (“OJ” and “VC”) separately. This is done using the function: \n",
    "#### tapply (x, index, fun):\n",
    "where `x` is a vector, `index` a factor (or list of two factors) and `fun` a function to be applied."
   ]
  },
  {
   "cell_type": "code",
   "execution_count": 8,
   "metadata": {
    "collapsed": false
   },
   "outputs": [
    {
     "name": "stdout",
     "output_type": "stream",
     "text": [
      "      OJ       VC \n",
      "20.66333 16.96333 \n"
     ]
    }
   ],
   "source": [
    "ee <- tapply(ToothGrowth[,\"len\"],method,mean)\n",
    "print(ee)"
   ]
  },
  {
   "cell_type": "code",
   "execution_count": 9,
   "metadata": {
    "collapsed": false
   },
   "outputs": [
    {
     "name": "stdout",
     "output_type": "stream",
     "text": [
      "            mg\n",
      "suppl_method   0.5     1     2\n",
      "          OJ 13.23 22.70 26.06\n",
      "          VC  7.98 16.77 26.14\n"
     ]
    }
   ],
   "source": [
    "dose <- factor(ToothGrowth[,\"dose\"])\n",
    "ee <- tapply(ToothGrowth[,\"len\"],list(suppl_method=method,mg=dose),mean)\n",
    "print(ee)"
   ]
  },
  {
   "cell_type": "markdown",
   "metadata": {},
   "source": [
    "### 1.10.2\tClassification: conversion of numeric vectors to factors\n",
    "In some cases it is advantageous to divide the total range of a numeric vector `x` into a certain number of discrete ranks (groups), and classify the values in `x` according to the rank they fall into. If each of these ranks is labelled by the identifying text, the result is a factor of the same length as the original vector. \n",
    "#### cut (x, breaks, labels)\n",
    "The function splits the numeric vector `x` into given number of ranks and codes its items according to the rank they fall into. \n",
    "The parameter `breaks` either defines the cut off points or specifies the desired number of intervals. \n",
    "Parameter `labels` may provide optional names for individual ranks. "
   ]
  },
  {
   "cell_type": "code",
   "execution_count": 12,
   "metadata": {
    "collapsed": false
   },
   "outputs": [
    {
     "data": {
      "text/html": [
       "33.9"
      ],
      "text/latex": [
       "33.9"
      ],
      "text/markdown": [
       "33.9"
      ],
      "text/plain": [
       "[1] 33.9"
      ]
     },
     "metadata": {},
     "output_type": "display_data"
    },
    {
     "name": "stdout",
     "output_type": "stream",
     "text": [
      " [1] Short     Normal    Short     Short     Short     Short     Normal   \n",
      " [8] Normal    Short     Short     Normal    Normal    Normal    Normal   \n",
      "[15] Long      Normal    Normal    Normal    Normal    Normal    Long     \n",
      "[22] Normal    Superlong Long      Long      Superlong Long      Long     \n",
      "[29] Long      Long      Normal    Long      Normal    Short     Normal   \n",
      "[36] Short     Short     Short     Normal    Short     Normal    Long     \n",
      "[43] Long      Long      Normal    Long      Long      Long      Normal   \n",
      "[50] Long      Long      Long      Long      Long      Long      Superlong\n",
      "[57] Long      Long      Long      Long     \n",
      "Levels: Short Normal Long Superlong\n"
     ]
    }
   ],
   "source": [
    "max(ToothGrowth[,\"len\"])\n",
    "# So let's split into 4 groups, 0-10, 10-20, 20-30, 30-40\n",
    "tooth.length <- cut(ToothGrowth[,\"len\"],breaks=10*(0:4),labels=c(\"Short\",\"Normal\",\"Long\",\"Superlong\"))\n",
    "print(tooth.length)"
   ]
  },
  {
   "cell_type": "markdown",
   "metadata": {},
   "source": [
    "### 1.10.3\tFrequency tables\n",
    "#### table(f1,f2)\n",
    "The function `table` allows frequency tables to be calculated from equal-length factors `f1` and `f2`. "
   ]
  },
  {
   "cell_type": "markdown",
   "metadata": {},
   "source": [
    "We use the predefined two factors,  `method`, reflecting the Vitamin C supplement type, and `teeth`, classifying the teeth length."
   ]
  },
  {
   "cell_type": "markdown",
   "metadata": {},
   "source": [
    "Finally we can generate a frequency table showing the distribution of teeth lengths depending on the Vitamin C supplement method:"
   ]
  },
  {
   "cell_type": "code",
   "execution_count": 13,
   "metadata": {
    "collapsed": false
   },
   "outputs": [
    {
     "data": {
      "text/plain": [
       "            length\n",
       "suppl_method Short Normal Long Superlong\n",
       "          OJ     5      7   17         1\n",
       "          VC     7     13    8         2"
      ]
     },
     "metadata": {},
     "output_type": "display_data"
    }
   ],
   "source": [
    "table(suppl_method=method,length=tooth.length)"
   ]
  },
  {
   "cell_type": "markdown",
   "metadata": {
    "collapsed": false,
    "scrolled": true
   },
   "source": [
    "## 1.11\tData input/output files\n",
    "### 1.11.1\tReading data\n",
    "The tools for data handling and editing available in R are fairly limited and thus it is a good idea to prepare them beforehand in a dedicated application, such as a spreadsheet or database program.\n",
    "Several packages are available on CRAN to help communicate with databases using the SQL language or the ODBC (Open Database Connectivity Application Programming Interface, API). \n",
    "\n",
    "Moreover there is a package interfacing to Windows applications (including MS Excel) via the DCOM interface. If you require any of these sophisticated tools, see the “R Data Import/Export” pdf file in documentation."
   ]
  },
  {
   "cell_type": "markdown",
   "metadata": {},
   "source": [
    "In many situations it will be sufficient to import plain text files. The most powerful of the functions available for this purpose is:\n",
    "#### read.table(filename, header = FALSE, sep = \"\", na.strings = \"NA\", check.names = TRUE, quote = \"\\\"'\", dec = \".\", fill = !blank.lines.skip)\n",
    "This function imports a data file specified by `filename`, in which the individual items are separated by separator `sep`. The common separators are `\",\"` – comma, `\"\\t\"` – tab, and `\"\\n\"` – new line. The parameter `dec` specifies a character interpreted as a decimal point. Note that the result is a data frame (and not a matrix), even if the file contains only numerical values. \n",
    "\n",
    "If matrix operations are to be employed, the data object must be thus explicitly converted. \n",
    "\n",
    "Unless the full path is specified, the file is searched in the current working directory. The directory can be queried with the `getwd()` command and set with the `setwd(dir)` function or the menu option `File|Change dir...`"
   ]
  },
  {
   "cell_type": "markdown",
   "metadata": {},
   "source": [
    "A parameter worth resetting to `FALSE` is `check.names` as it determines whether the row and column names are to be syntactically checked to be valid R names. When `TRUE`, R will replace e.g. accented characters and slashes (`/`) with dots.\n",
    "There is a useful convention; if the first row in the data file has one item less than the following ones, it is interpreted as column names and every first item in subsequent rows as a respective row name. The file might look as follows:\n",
    "\n",
    "SiO2 → TiO2 → Al2O3 → Fe2O3 → FeO\n",
    "\n",
    "Li1 → 51.73 → 1.48 → 16.01 → 1.03 → 7.06\n",
    "\n",
    "Li2 → 51.88 → 1.48 → 15.93 → 0.99 → 6.85 …\n",
    "\n",
    "In order to read a text file in which the lengths of rows are all the same, but column names are present, one can employ `header = TRUE, row.names = 1`."
   ]
  },
  {
   "cell_type": "markdown",
   "metadata": {},
   "source": [
    "Parameter `na.strings` specifies text strings to be interpreted as missing values, e.g., `na.strings=c(\"b.d.\",\"-\",\"NA\")`. It is fairly common for a file exported from a spreadsheet such as MS Excel to have all trailing empty fields and their separators omitted. To read such files set `fill = TRUE` or simply copy and paste the data from spreadsheet to your text editor directly using the Windows clipboard."
   ]
  },
  {
   "cell_type": "code",
   "execution_count": 14,
   "metadata": {
    "collapsed": false
   },
   "outputs": [
    {
     "data": {
      "text/html": [
       "<table>\n",
       "<thead><tr><th></th><th scope=col>Intrusion</th><th scope=col>Locality</th><th scope=col>Petrology</th><th scope=col>Outcrop</th><th scope=col>Symbol</th><th scope=col>Colour</th><th scope=col>SiO2</th><th scope=col>TiO2</th><th scope=col>Al2O3</th><th scope=col>FeO</th><th scope=col>...</th><th scope=col>Dy</th><th scope=col>Ho</th><th scope=col>Er</th><th scope=col>Tm</th><th scope=col>Yb</th><th scope=col>Lu</th><th scope=col>Y</th><th scope=col>Cs</th><th scope=col>Ta</th><th scope=col>Hf</th></tr></thead>\n",
       "<tbody>\n",
       "\t<tr><th scope=row>Sa-1</th><td>Sazava                </td><td>Mrac                  </td><td>bi-amph quartz diorite</td><td>working quarry        </td><td>10                    </td><td>4                     </td><td>59.98                 </td><td>0.63                  </td><td>16.42                 </td><td>5.46                  </td><td>...                   </td><td> NA                   </td><td>  NA                  </td><td>  NA                  </td><td>  NA                  </td><td>  NA                  </td><td>  NA                  </td><td>25                    </td><td> NA                   </td><td> NA                   </td><td> NA                   </td></tr>\n",
       "\t<tr><th scope=row>Sa-2</th><td>Sazava                </td><td>Mrac                  </td><td>bi-amph quartz diorite</td><td>working quarry        </td><td>10                    </td><td>4                     </td><td>55.17                 </td><td>0.71                  </td><td>17.00                 </td><td>5.26                  </td><td>...                   </td><td> NA                   </td><td>  NA                  </td><td>  NA                  </td><td>  NA                  </td><td>  NA                  </td><td>  NA                  </td><td>30                    </td><td> NA                   </td><td> NA                   </td><td> NA                   </td></tr>\n",
       "\t<tr><th scope=row>Sa-3</th><td>Sazava                </td><td>Mrac                  </td><td>bi-amph quartz diorite</td><td>working quarry        </td><td>10                    </td><td>4                     </td><td>55.09                 </td><td>0.75                  </td><td>17.59                 </td><td>5.81                  </td><td>...                   </td><td> NA                   </td><td>  NA                  </td><td>  NA                  </td><td>  NA                  </td><td>  NA                  </td><td>  NA                  </td><td>30                    </td><td> NA                   </td><td> NA                   </td><td> NA                   </td></tr>\n",
       "\t<tr><th scope=row>Sa-4</th><td>Sazava                </td><td>Mrac                  </td><td>bi-amph quartz diorite</td><td>working quarry        </td><td>10                    </td><td>4                     </td><td>50.72                 </td><td>0.83                  </td><td>17.57                 </td><td>7.65                  </td><td>...                   </td><td>5.8                   </td><td>1.03                  </td><td>2.80                  </td><td>0.43                  </td><td>2.88                  </td><td>0.43                  </td><td>38                    </td><td>5.7                   </td><td>0.5                   </td><td>2.5                   </td></tr>\n",
       "\t<tr><th scope=row>Sa-7</th><td>Sazava                </td><td>Teletín               </td><td>bi-amph tonalite      </td><td>disused quarry        </td><td>10                    </td><td>1                     </td><td>57.73                 </td><td>0.95                  </td><td>18.82                 </td><td>5.43                  </td><td>...                   </td><td>2.7                   </td><td>0.56                  </td><td>1.64                  </td><td>0.24                  </td><td>1.52                  </td><td>0.25                  </td><td>24                    </td><td>6.6                   </td><td>0.6                   </td><td>3.6                   </td></tr>\n",
       "\t<tr><th scope=row>SaD-1</th><td>basic                 </td><td>Teletín               </td><td>bi-amph quartz diorite</td><td>disused quarry        </td><td> 8                    </td><td>1                     </td><td>52.90                 </td><td>1.35                  </td><td>18.23                 </td><td>7.24                  </td><td>...                   </td><td> NA                   </td><td>  NA                  </td><td>  NA                  </td><td>  NA                  </td><td>  NA                  </td><td>  NA                  </td><td>36                    </td><td>2.3                   </td><td>1.1                   </td><td>1.8                   </td></tr>\n",
       "</tbody>\n",
       "</table>\n"
      ],
      "text/latex": [
       "\\begin{tabular}{r|lllllllllllllllllllllllllllllllllllllllllllllllll}\n",
       "  & Intrusion & Locality & Petrology & Outcrop & Symbol & Colour & SiO2 & TiO2 & Al2O3 & FeO & ... & Dy & Ho & Er & Tm & Yb & Lu & Y & Cs & Ta & Hf\\\\\n",
       "\\hline\n",
       "\tSa-1 & Sazava                 & Mrac                   & bi-amph quartz diorite & working quarry         & 10                     & 4                      & 59.98                  & 0.63                   & 16.42                  & 5.46                   & ...                    &  NA                    &   NA                   &   NA                   &   NA                   &   NA                   &   NA                   & 25                     &  NA                    &  NA                    &  NA                   \\\\\n",
       "\tSa-2 & Sazava                 & Mrac                   & bi-amph quartz diorite & working quarry         & 10                     & 4                      & 55.17                  & 0.71                   & 17.00                  & 5.26                   & ...                    &  NA                    &   NA                   &   NA                   &   NA                   &   NA                   &   NA                   & 30                     &  NA                    &  NA                    &  NA                   \\\\\n",
       "\tSa-3 & Sazava                 & Mrac                   & bi-amph quartz diorite & working quarry         & 10                     & 4                      & 55.09                  & 0.75                   & 17.59                  & 5.81                   & ...                    &  NA                    &   NA                   &   NA                   &   NA                   &   NA                   &   NA                   & 30                     &  NA                    &  NA                    &  NA                   \\\\\n",
       "\tSa-4 & Sazava                 & Mrac                   & bi-amph quartz diorite & working quarry         & 10                     & 4                      & 50.72                  & 0.83                   & 17.57                  & 7.65                   & ...                    & 5.8                    & 1.03                   & 2.80                   & 0.43                   & 2.88                   & 0.43                   & 38                     & 5.7                    & 0.5                    & 2.5                   \\\\\n",
       "\tSa-7 & Sazava                 & Teletín                & bi-amph tonalite       & disused quarry         & 10                     & 1                      & 57.73                  & 0.95                   & 18.82                  & 5.43                   & ...                    & 2.7                    & 0.56                   & 1.64                   & 0.24                   & 1.52                   & 0.25                   & 24                     & 6.6                    & 0.6                    & 3.6                   \\\\\n",
       "\tSaD-1 & basic                  & Teletín                & bi-amph quartz diorite & disused quarry         &  8                     & 1                      & 52.90                  & 1.35                   & 18.23                  & 7.24                   & ...                    &  NA                    &   NA                   &   NA                   &   NA                   &   NA                   &   NA                   & 36                     & 2.3                    & 1.1                    & 1.8                   \\\\\n",
       "\\end{tabular}\n"
      ],
      "text/markdown": [
       "\n",
       "| <!--/--> | Intrusion | Locality | Petrology | Outcrop | Symbol | Colour | SiO2 | TiO2 | Al2O3 | FeO | ... | Dy | Ho | Er | Tm | Yb | Lu | Y | Cs | Ta | Hf | \n",
       "|---|---|---|---|---|---|\n",
       "| Sa-1 | Sazava                 | Mrac                   | bi-amph quartz diorite | working quarry         | 10                     | 4                      | 59.98                  | 0.63                   | 16.42                  | 5.46                   | ...                    |  NA                    |   NA                   |   NA                   |   NA                   |   NA                   |   NA                   | 25                     |  NA                    |  NA                    |  NA                    | \n",
       "| Sa-2 | Sazava                 | Mrac                   | bi-amph quartz diorite | working quarry         | 10                     | 4                      | 55.17                  | 0.71                   | 17.00                  | 5.26                   | ...                    |  NA                    |   NA                   |   NA                   |   NA                   |   NA                   |   NA                   | 30                     |  NA                    |  NA                    |  NA                    | \n",
       "| Sa-3 | Sazava                 | Mrac                   | bi-amph quartz diorite | working quarry         | 10                     | 4                      | 55.09                  | 0.75                   | 17.59                  | 5.81                   | ...                    |  NA                    |   NA                   |   NA                   |   NA                   |   NA                   |   NA                   | 30                     |  NA                    |  NA                    |  NA                    | \n",
       "| Sa-4 | Sazava                 | Mrac                   | bi-amph quartz diorite | working quarry         | 10                     | 4                      | 50.72                  | 0.83                   | 17.57                  | 7.65                   | ...                    | 5.8                    | 1.03                   | 2.80                   | 0.43                   | 2.88                   | 0.43                   | 38                     | 5.7                    | 0.5                    | 2.5                    | \n",
       "| Sa-7 | Sazava                 | Teletín                | bi-amph tonalite       | disused quarry         | 10                     | 1                      | 57.73                  | 0.95                   | 18.82                  | 5.43                   | ...                    | 2.7                    | 0.56                   | 1.64                   | 0.24                   | 1.52                   | 0.25                   | 24                     | 6.6                    | 0.6                    | 3.6                    | \n",
       "| SaD-1 | basic                  | Teletín                | bi-amph quartz diorite | disused quarry         |  8                     | 1                      | 52.90                  | 1.35                   | 18.23                  | 7.24                   | ...                    |  NA                    |   NA                   |   NA                   |   NA                   |   NA                   |   NA                   | 36                     | 2.3                    | 1.1                    | 1.8                    | \n",
       "\n",
       "\n"
      ],
      "text/plain": [
       "      Intrusion Locality Petrology              Outcrop        Symbol Colour\n",
       "Sa-1  Sazava    Mrac     bi-amph quartz diorite working quarry 10     4     \n",
       "Sa-2  Sazava    Mrac     bi-amph quartz diorite working quarry 10     4     \n",
       "Sa-3  Sazava    Mrac     bi-amph quartz diorite working quarry 10     4     \n",
       "Sa-4  Sazava    Mrac     bi-amph quartz diorite working quarry 10     4     \n",
       "Sa-7  Sazava    Teletín  bi-amph tonalite       disused quarry 10     1     \n",
       "SaD-1 basic     Teletín  bi-amph quartz diorite disused quarry  8     1     \n",
       "      SiO2  TiO2 Al2O3 FeO  ... Dy  Ho   Er   Tm   Yb   Lu   Y  Cs  Ta  Hf \n",
       "Sa-1  59.98 0.63 16.42 5.46 ...  NA   NA   NA   NA   NA   NA 25  NA  NA  NA\n",
       "Sa-2  55.17 0.71 17.00 5.26 ...  NA   NA   NA   NA   NA   NA 30  NA  NA  NA\n",
       "Sa-3  55.09 0.75 17.59 5.81 ...  NA   NA   NA   NA   NA   NA 30  NA  NA  NA\n",
       "Sa-4  50.72 0.83 17.57 7.65 ... 5.8 1.03 2.80 0.43 2.88 0.43 38 5.7 0.5 2.5\n",
       "Sa-7  57.73 0.95 18.82 5.43 ... 2.7 0.56 1.64 0.24 1.52 0.25 24 6.6 0.6 3.6\n",
       "SaD-1 52.90 1.35 18.23 7.24 ...  NA   NA   NA   NA   NA   NA 36 2.3 1.1 1.8"
      ]
     },
     "metadata": {},
     "output_type": "display_data"
    }
   ],
   "source": [
    "sazava  <-  read.table(\"data/sazava.data\",sep=\"\\t\")\n",
    "head(sazava)"
   ]
  },
  {
   "cell_type": "markdown",
   "metadata": {},
   "source": [
    "#### readClipboard()\n",
    "In its simplest form, this function reads the text from the Windows clipboard. "
   ]
  },
  {
   "cell_type": "markdown",
   "metadata": {},
   "source": [
    "### 1.11.2\tSample data sets\n",
    "R and its packages contain numerous sample datasets that can be attached to the current session using the function `data(…)`. For instance:"
   ]
  },
  {
   "cell_type": "code",
   "execution_count": 15,
   "metadata": {
    "collapsed": true
   },
   "outputs": [],
   "source": [
    "data(islands)"
   ]
  },
  {
   "cell_type": "markdown",
   "metadata": {},
   "source": [
    "Then documentation is available using the help command:"
   ]
  },
  {
   "cell_type": "code",
   "execution_count": 16,
   "metadata": {
    "collapsed": false
   },
   "outputs": [],
   "source": [
    "?islands"
   ]
  },
  {
   "cell_type": "markdown",
   "metadata": {},
   "source": [
    "### 1.11.3\tSaving data\n",
    "#### write.table(x, file = \"\", append = FALSE, sep = \" \", na = \"NA\", dec = \".\", row.names = TRUE, col.names = TRUE)\n",
    "This function writes an object `x` (a matrix, a data frame, or an object that can be converted to such) to the specified `file`, separating the individual items by `sep`. As for `read.table`, one can specify the strings representing the missing values and the decimal point. Moreover, there are logical parameters determining whether row and/or column names are to be stored (`row.names, col.names`) and whether to append the data without erasing those possibly already present.\n",
    "#### writeClipboard(str)\n",
    "Writes the text specified by the character vector `str` to the Windows clipboard."
   ]
  },
  {
   "cell_type": "code",
   "execution_count": null,
   "metadata": {
    "collapsed": true
   },
   "outputs": [],
   "source": []
  }
 ],
 "metadata": {
  "kernelspec": {
   "display_name": "R",
   "language": "R",
   "name": "ir"
  },
  "language_info": {
   "codemirror_mode": "r",
   "file_extension": ".r",
   "mimetype": "text/x-r-source",
   "name": "R",
   "pygments_lexer": "r",
   "version": "3.4.3"
  }
 },
 "nbformat": 4,
 "nbformat_minor": 0
}
