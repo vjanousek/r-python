{
 "cells": [
  {
   "cell_type": "markdown",
   "metadata": {},
   "source": [
    "# R applications – Part I Some useful graphs\n",
    "* 1.1 Log-log binary plots\n",
    "* 1.2 Harker plots and closure effect\n",
    "* 1.3 Spiderplots\n",
    "* 1.4 Ternary plots"
   ]
  },
  {
   "cell_type": "markdown",
   "metadata": {},
   "source": [
    "## 1.1 Log-log binary plots\n",
    "Plotting a binary plot in logarithmic coordinates enables examining both the elemental concentrations and their ratios. In this projection the fan of lines passing through the origin corresponding to analyses of constant ratio in a standard binary plot is transformed into a series of parallel lines of identical slope in logarithmic coordinates. In R, log–log diagrams are plotted using the function `plot`, specifying `log = \"xy\"`."
   ]
  },
  {
   "cell_type": "markdown",
   "metadata": {},
   "source": [
    "<img src=\"images/exercise-icon.png\" style=\"float:left;width:40px;height:40px;\"> \n",
    "Plot binary diagrams of Sr vs. Rb for the `sazava` dataset in two versions, linear and log-log."
   ]
  },
  {
   "cell_type": "code",
   "execution_count": null,
   "metadata": {
    "collapsed": true
   },
   "outputs": [],
   "source": [
    "options(repr.plot.width=4, repr.plot.height=2.5)"
   ]
  },
  {
   "cell_type": "code",
   "execution_count": null,
   "metadata": {
    "collapsed": false
   },
   "outputs": [],
   "source": [
    "sazava <- read.table(\"data/sazava.data\",sep=\"\\t\")\n",
    "windows(width=10,height=5,pointsize=12) # empty window of correct size\n",
    "par(mfrow=c(1,2))                       # split screen for two graphs\n",
    "par(mar=c(4,4,1,1))                     # outer margins for each of the graphs\n",
    "par(pty = \"s\")                          # forces the individual plots to be square\n",
    "# Plot 1\n",
    "plot(sazava[,\"Sr\"],sazava[,\"Rb\"],xlim=c(1,1000),ylim=c(1,1000),xlab=\"Sr\",\n",
    "     ylab=\"Rb\",pch=16,col=\"blue\",cex=1.5,xaxs=\"i\",yaxs=\"i\",log=\"\")\n",
    "ee <- sapply(c(seq(0.1,1,0.1),1:10),function(i)abline(0,i,lty=\"dashed\"))\n",
    "\n",
    "# Plot 2\n",
    "plot(sazava[,\"Sr\"],sazava[,\"Rb\"],xlim=c(1,1000),ylim=c(1,1000),xlab=\"Sr\",\n",
    "     ylab=\"Rb\",pch=16,col=\"blue\",cex=1.5,xaxs=\"i\",yaxs=\"i\",log=\"xy\")\n",
    "ee <- sapply(c(seq(0.1,1,0.1),1:10),function(i)abline(log10(i),1,lty=\"dashed\"))"
   ]
  },
  {
   "cell_type": "markdown",
   "metadata": {},
   "source": [
    "### 1.2 Harker plots  and closure effect\n",
    "One of the most useful, most commonly employed and at the same time most questioned graphs in igneous geochemistry are the Harker plots, i.e. binary plots of silica versus major-element oxides (Harker 1909). \n",
    "\n",
    "<img src=\"images/Harker.png\" style=\"width:400px;\">\n",
    "\n",
    "Numerous workers have argued that much of correlation observed in binary plots involving silica is spurious, due to the constant sum effect (e.g., Chayes 1960; Skala 1979; Rock 1988; Rollinson 1992, 1993). This effect arises from the fact that major elements sum up to 100 % and thus, if one oxide increases in abundance, all others must decrease. Therefore, everything must be anti-correlated with silica. In any binary diagram (especially using SiO<sub>2</sub> which is the most abundant component), this results in formation of a “Forbidden zone”, into which no analyses could plot.\n",
    "\n",
    "One solution to this problem has been proposed by Bonin (1986) who introduced the SiO<sub>2</sub> vs. oxide\\* plots, where oxide\\* represents the proportion of the relevant oxide in the non-silica portion of the rock (in wt. %)\n",
    "\n",
    "<img src=\"images/closure.png\" style=\"width:600px;\">\n",
    "\n",
    "*Derivation of an oxide*\\* *diagram for the Sázava dataset. **a** Alumina plotted in wt. %. Note the “Forbidden zone”, approached by the trend as differentiation progresses, meaning that Al<sub>2</sub>O<sub>3</sub> becomes an increasingly important part of the “non-silica” portion of the rock. This is underlined by the sharp increase in Al<sub>2</sub>O<sub>3</sub> *(**b**)*"
   ]
  },
  {
   "cell_type": "markdown",
   "metadata": {},
   "source": [
    "Another classic numerical remedy to the constant-sum problem are log-ratio transformations (Aitchison 1986). See Reimann et al. (2008) for details."
   ]
  },
  {
   "cell_type": "markdown",
   "metadata": {},
   "source": [
    "<img src=\"images/exercise-icon.png\" style=\"float:left;width:40px;height:40px;\"> \n",
    "Using a loop and function `par(mfrow)`, write a short program that would plot six binary plots of SiO<sub>2</sub> vs. major-element oxides of your choice."
   ]
  },
  {
   "cell_type": "code",
   "execution_count": null,
   "metadata": {
    "collapsed": true
   },
   "outputs": [],
   "source": [
    "options(repr.plot.width=10, repr.plot.height=6)"
   ]
  },
  {
   "cell_type": "code",
   "execution_count": null,
   "metadata": {
    "collapsed": false
   },
   "outputs": [],
   "source": [
    "sazava <- read.table(\"data/sazava.data\",sep=\"\\t\")\n",
    "windows(width=8,height=6)\n",
    "par(mfrow=c(2,3))\t# Split screen for 6 graphs\n",
    "ee <- c(\"Al2O3\",\"MgO\",\"CaO\",\"Na2O\",\"K2O\",\"P2O5\")\n",
    "for(ox in ee){\n",
    "    par(pty = \"s\")\n",
    "    plot(sazava[,\"SiO2\"],sazava[,ox],xlab=\"SiO2\",ylab=ox,pch=sazava[,\"Symbol\"],\n",
    "         cex=1.5)\n",
    "}"
   ]
  },
  {
   "cell_type": "code",
   "execution_count": null,
   "metadata": {
    "collapsed": false
   },
   "outputs": [],
   "source": [
    "# Fancier version\n",
    "sazava <- read.table(\"data/sazava.data\",sep=\"\\t\")\n",
    "windows(width=8,height=6)\n",
    "par(mfrow=c(2,3))\t# Split screen for 6 graphs\n",
    "ee <- c(\"Al2O3\",\"MgO\",\"CaO\",\"Na2O\",\"K2O\",\"P2O5\")\n",
    "lab <- c(\"Al[2]*O[3]\",\"MgO\",\"CaO\",\"Na[2]*O\",\"K[2]*O\",\"P[2]*O[5]\")\n",
    "for(f in 1:length(ee)){\n",
    "    par(pty = \"s\")\n",
    "    plot(sazava[,\"SiO2\"],sazava[,ee[f]],xlab=expression(SiO[2]),\n",
    "         ylab=parse(text=as.expression(lab[f])),pch=sazava[,\"Symbol\"],cex=1.5)\n",
    "}"
   ]
  },
  {
   "cell_type": "markdown",
   "metadata": {},
   "source": [
    "## 1.3 Spiderplots\n",
    "\n",
    "Geochemists often like to express the compositional differences between the studied sample and given geochemical reservoir in the form of the so-called spiderplots (also known as spiderdiagrams/spidergrams or (better) multi-element diagrams). Spiderplots allow representing much of the sample’s composition on a single graph. Technically these are logarithmic plots of elemental concentrations (allowing comparison of several orders of magnitude different concentrations) in the sample divided (normalized) by those in the selected standard. The most common spiderdiagrams are chondrite-normalized REE plots.\n",
    "\n",
    "The added value of spiderplots consists in elimination of the Oddo-Harkins effect: in the Solar System, the abundances of even-numbered elements are greater than those of neighbouring odd-numbered ones. Moreover, abundances generally decrease with increasing atomic number. Non-normalized data thus show zigzag, slightly sloped patterns. Normalized patterns (spiderplots) smooth out such differences.\n",
    "\n",
    "\n",
    "<img src=\"images/spider_plot_derivation.png\" style=\"width:600px;\">\n",
    "*Illustration of the Oddo-Harkins effect. Non-normalized patterns (ppm) for average chondrite meteorites (Boynton 1984) and the Požáry trondhjemite Po-1 from the Sázava dataset (**a—b**). **c** — Normalization to a common reference (chondrites in this case) compensates for this effect and allows focusing on differences between individual terrestrial rocks.*\n",
    " "
   ]
  },
  {
   "cell_type": "markdown",
   "metadata": {
    "collapsed": true
   },
   "source": [
    "<img src=\"images/exercise-icon.png\" style=\"float:left;width:40px;height:40px;\"> \n",
    "We shall write a function that will normalize REE concentrations in the sample by chondritic contents according to Boynton (1984). The normalizing data are stored in a comma-delimited file `boynton.data`. Then we will use it to calculate the normalized REE concentrations for analyses of the Sázava suite and display — using the functions `plot`, `axis`, `points` and `lines` — spiderdiagrams for trondhjemites Po-1 and Po-4. "
   ]
  },
  {
   "cell_type": "code",
   "execution_count": null,
   "metadata": {
    "collapsed": true
   },
   "outputs": [],
   "source": [
    "options(repr.plot.width=5.5, repr.plot.height=5.5)"
   ]
  },
  {
   "cell_type": "code",
   "execution_count": null,
   "metadata": {
    "collapsed": false
   },
   "outputs": [],
   "source": [
    "x <- read.table(\"data/boynton.data\",sep=\",\")\n",
    "chondrite <- as.numeric(x)         # conversion to numeric vector\n",
    "names(chondrite) <- names(x)\n",
    "\n",
    "norm <- function(x,chon){          # normalizing function\n",
    "    z <- t(x[,names(chon)])/chon \n",
    "    return(z)\n",
    "}\n",
    "\n",
    "sazava <- read.table(\"data/sazava.data\",sep=\"\\t\")\n",
    "y <- norm(sazava,chondrite)        # normalized values\n",
    "\n",
    "plot(y[,\"Po-1\"],type=\"o\",log=\"y\",axes=FALSE,xlab=\"\",ylab=\"REE/chondrite\",\n",
    "     ylim=c(0.5,100),col=\"darkgreen\")\n",
    "axis(1,1:length(chondrite),labels=names(chondrite))\n",
    "axis(2)\n",
    "\n",
    "points(y[,\"Po-4\"],col=\"blue\",type=\"o\")\n",
    "abline(h=(10^(-1:3)),lty=\"dashed\")  # grid\n",
    "box()                               # bounding box"
   ]
  },
  {
   "cell_type": "markdown",
   "metadata": {},
   "source": [
    "## 1.4 Ternary plots\n",
    "Ternary plots rank among important and widely used geochemical tools. Setting the sides of the triangle to equating a unity, its vertices (bottom-left, top, and bottom-right) have `[x,y]` coordinates of `A[0,0]`, `B[0.5,sqrt(3)/2]` and `C[1,0]`. \n",
    "\n",
    "<img src=\"images/ternary.png\" style=\"width:400px;\">\n",
    "\n",
    "The ternary coordinates `[a,b,c]` of a data point `X` can be transformed to binary ones `[x,y]` as follows:\n",
    "\n",
    "$x=1-a-\\frac{b}{2}$ and $y=\\frac{\\sqrt{3}}{2}b$."
   ]
  },
  {
   "cell_type": "markdown",
   "metadata": {},
   "source": [
    "<img src=\"images/exercise-icon.png\" style=\"float:left;width:40px;height:40px;\"> \n",
    "We can now use standard R functions for binary plot; the trick is that (binary) axes are not shown and triangle outline is drawn using `lines`.\n",
    "\n",
    "First, we design a function plotting ternary diagrams and then will employ it to display a Ba–Rb–Sr ternary plot for the Sázava suite."
   ]
  },
  {
   "cell_type": "code",
   "execution_count": null,
   "metadata": {
    "collapsed": true
   },
   "outputs": [],
   "source": [
    "options(repr.plot.width=5, repr.plot.height=5)"
   ]
  },
  {
   "cell_type": "code",
   "execution_count": null,
   "metadata": {
    "collapsed": false
   },
   "outputs": [],
   "source": [
    "tri <- function(alab,blab,clab){ \n",
    "    sums <- apply(sazava[,c(alab,blab,clab)],1,sum)\n",
    "    a <- sazava[,alab]/sums\n",
    "    b <- sazava[,blab]/sums\n",
    "    plot(1-a-b/2,sqrt(3)*b/2,xlab=\"\",ylab=\"\",xlim=c(0,1),ylim=c(0,1),\n",
    "         axes=FALSE,asp=1)\n",
    "    # axes=FALSE: no plotting of axes; asp: aspect ratio\n",
    "    x1 <- c(0,1,.5,0)\n",
    "    y1 <- c(0,0,sqrt(3)/2,0)\n",
    "    lines(x1,y1)\n",
    "    text(-0.05,0,alab)\n",
    "    text(1.05,0,clab)\n",
    "    text(0.5,sqrt(3)/2+0.05,blab)\n",
    "}\n",
    "\n",
    "sazava <- read.table(\"data/sazava.data\",sep=\"\\t\")\n",
    "tri(\"Ba\",\"Rb\",\"Sr\")"
   ]
  },
  {
   "cell_type": "markdown",
   "metadata": {
    "collapsed": true
   },
   "source": [
    "#### References\n",
    "Aitchison J (1986) The Statistical Analysis of Compositional Data. Methuen, New York\n",
    "\n",
    "Bonin B (1986) Ring Complexes and Anorogenic Magmatism. Elsevier, Amsterdam\n",
    "\n",
    "Boynton WV (1984) Cosmochemistry of the rare earth elements: meteorite studies. In: Henderson P (eds) Rare Earth Element Geochemistry. Elsevier, Amsterdam, pp 63–114\n",
    "\n",
    "Chayes F (1960) On correlation between variables of constant sum. J Geophys Res 65:4185–4193\n",
    "\n",
    "Harker A (1909) The natural history of igneous rocks. Methuen & Co., London\n",
    "\n",
    "Reimann C, Filzmoser P, Garrett R, Dutter R (2008) Statistical Data Analysis Explained: Applied Environmental Statistics with R. John Wiley & Sons, Chichester\n",
    "\n",
    "Rock NMS (1988) Numerical geology. A source guide, glossary and selective bibliography to geological uses of computers and statistics. Lecture Notes in Earth Sciences, vol 18. Springer, Berlin\n",
    "\n",
    "Rollinson HR (1992) Another look at the constant sum problem in geochemistry. Mineral Mag 56:469–475\n",
    "\n",
    "Skala W (1979) Some effects of the constant-sum problem in geochemistry. Chem Geol 27:1–9"
   ]
  },
  {
   "cell_type": "code",
   "execution_count": null,
   "metadata": {
    "collapsed": true
   },
   "outputs": [],
   "source": []
  }
 ],
 "metadata": {
  "kernelspec": {
   "display_name": "R",
   "language": "R",
   "name": "ir"
  },
  "language_info": {
   "codemirror_mode": "r",
   "file_extension": ".r",
   "mimetype": "text/x-r-source",
   "name": "R",
   "pygments_lexer": "r",
   "version": "3.4.3"
  }
 },
 "nbformat": 4,
 "nbformat_minor": 1
}
